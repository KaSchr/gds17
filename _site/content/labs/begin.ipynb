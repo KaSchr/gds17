{
 "cells": [
  {
   "cell_type": "markdown",
   "metadata": {},
   "source": [
    "# Get started with the GDS stack (Windows)\n",
    "\n",
    "This document shows how you can get started with the tools used in the [GDS'16](http://darribas.org/gds16) course. In particular, it walks you through each step of three of the most common tasks you will have to do in order to follow on each computer practical:\n",
    "\n",
    "1. Start the Jupyter Notebook\n",
    "1. Download notebook files with the practicals\n",
    "1. Download data files and access them within the notebook\n",
    "\n",
    "We assume, you are either on a university computer that has all the required software installed (`Install University Applications` --> `Scientific` --> `Geographic Data Science Stack 2016`) or, if you are on a personal computer, you have installed all the software following the instructions (if not, go [here](http://darribas.org/gds16/software.html)).\n"
   ]
  },
  {
   "cell_type": "markdown",
   "metadata": {},
   "source": [
    "## Fire up the `jupyter` notebook\n",
    "\n",
    "All of the course is based on the **Jupyter notebook**, a computational environment that provides an interface to the Python programming language by allowing to capture in a single document (an `.ipynb` file, or notebook from now on) Python code, its output, and additional text.\n",
    "\n",
    "Follow these steps to start the notebook app:\n",
    "\n",
    "* Go to the `Search Windows` box on the bottom-left corner of the screen and type `Anaconda Prompt` (on Windows 7, this can be accessed through the `Start` menu and \"`Search Programs and files`\"):\n",
    "\n",
    "![](figs/l00_startup.png)\n",
    "\n",
    "* Hit enter and that should open up a window that looks like this:\n",
    "\n",
    "![](figs/l00_prompt.png)\n",
    "\n",
    "* Now you need to navigate through the computer file system (just as you would do with the Explorer window, but through commands). The first step is go to the `M:` drive so everything you make is safely saved. Type the following on the prompt:\n",
    "\n",
    "> `M:`\n",
    "\n",
    "which should change the `C:\\Windows\\system32>` preamble into `M:\\ `. This means you have changed to the `M` directory.\n",
    "\n",
    "* Next step is activating the `gds` environment. For that, type the following command:\n",
    "\n",
    "> `activate gds`\n",
    "\n",
    "This should set at the beginning of each prompt line the text `(gds)`.\n",
    "\n",
    "* At this point, you are ready to fire up the notebook! Type:\n",
    "\n",
    "> `jupyter notebook`\n",
    "\n",
    "And the browser should start and open a page that looks like this:\n",
    "\n",
    "![](figs/l00_notebook_home.png)\n",
    "\n",
    "Congrats, you are good to go!!!"
   ]
  },
  {
   "cell_type": "markdown",
   "metadata": {},
   "source": [
    "## Download course files\n",
    "\n",
    "Almost every file you will need for this course can be accessed through the course website:\n",
    "\n",
    "> [darribas.org/gds16](http://darribas.org/gds16)\n",
    "\n",
    "To demonstrate how to effectively access the files needed for the computer practicals, we will use the example of the first practical. Here are the steps to follow:\n",
    "\n",
    "* Head to the [practical's page](http://darribas.org/gds16/labs/Lab_01.html):\n",
    "\n",
    "![](figs/l00_lab_page.png)\n",
    "\n",
    "* In this case, we are interested in the first part. The file you want to download is the `ipynb`, which contains the notebook. Go ahead and right-click with the mouse on top of the link.\n",
    "\n",
    "![](figs/l00_right_click.png)\n",
    "\n",
    "And save it somewhere **WITHIN the `M` DRIVE**. This is important for two reasons: a) you have started your Jupyter session there and b) it is the only way to ensure the file stays safely backed up and protected.\n",
    "\n",
    "* At this point, you can go back to you Jupyter Notebook session:\n",
    "\n",
    "![](figs/l00_notebook_home.png)\n",
    "\n",
    "And navigate within it to the folder where you have placed the notebook file.\n",
    "\n",
    "* Click on the file and that should open a new page that looks like this:\n",
    "\n",
    "![](figs/l00_notebook.png)\n",
    "\n",
    "At this point, you are all set to hack some Python code!"
   ]
  },
  {
   "cell_type": "markdown",
   "metadata": {},
   "source": [
    "## Read files into the notebook\n",
    "\n",
    "Finally, once you have the notebook for a practical ready, you will want to download the dataset of interest and be able to access it within the notebook. The download part is just as any other linked file from the internet; the accessing it through the notebook is a bit trickier but, once you've got around doing it once, it is always the same process.\n",
    "\n",
    "Let us use the dataset in the first lab as an example. To download it, you can access it on this link:\n",
    "\n",
    "> http://darribas.org/gds16/content/labs/data/liv_pop.csv\n",
    "\n",
    "**NOTE** This is explained also in the [data section](http://darribas.org/gds16/datasets.html) of the course website.\n",
    "\n",
    "You can download in the same way as we did the notebook before: righ-click on the link --> \"Save target as...\". Same as before, place it somewhere **within your `M` drive**.\n",
    "\n",
    "![](figs/l00_dataset.png)\n",
    "\n",
    "Now, depending on where you have saved the file, you will do one thing or another of the following:\n",
    "\n",
    "A - **If you have placed the dataset in the same folder as the notebook**, all you need to do is just use the name of the file:"
   ]
  },
  {
   "cell_type": "code",
   "execution_count": 1,
   "metadata": {
    "collapsed": true
   },
   "outputs": [],
   "source": [
    "f = 'liv_pop.csv'"
   ]
  },
  {
   "cell_type": "markdown",
   "metadata": {},
   "source": [
    "B - **If you have placed the dataset in a folder *within* the folder where the notebook is**. For example, let us assume that, within the folder where your notebook is, there is a subfolder called `data`. In this case, you will point to the file in this way:"
   ]
  },
  {
   "cell_type": "code",
   "execution_count": 2,
   "metadata": {
    "collapsed": true
   },
   "outputs": [],
   "source": [
    "f = 'data/liv_pop.csv'"
   ]
  },
  {
   "cell_type": "markdown",
   "metadata": {},
   "source": [
    "C - **If you have placed the dataset in a different folder altogether**. In this case, you need to obtain what is called the \"full path\" of the file. Let us assume you downloaded the data file into the Downloads folder. To obtain the full path, the easiest way is to open a Windows Explorer window:\n",
    "\n",
    "![](figs/l00_explorer.png)\n",
    "\n",
    "* Click on the top bar, where you would usually enter a web address if this was an internet browser. This should change it to something looking approximately like:\n",
    "\n",
    "![](figs/l00_path.png)\n",
    "\n",
    "* Then right-click on \"Desktop\" and \"Copy\":\n",
    "\n",
    "![](figs/l00_copy_path.png)\n",
    "\n",
    "* What you have just copied is the path to the folder where the file is, and you can paste this in-lieu of the options above. However, you need to the add the name of the file (just as above):"
   ]
  },
  {
   "cell_type": "code",
   "execution_count": 3,
   "metadata": {
    "collapsed": true
   },
   "outputs": [],
   "source": [
    "f = \"C:/Users/darribas/Downloads/liv_pop.csv\""
   ]
  },
  {
   "cell_type": "markdown",
   "metadata": {},
   "source": [
    "Whichever way of the three (A, B, C) you have decided to go, you should now be ready to get on with the practical. Happy hacking!!!"
   ]
  }
 ],
 "metadata": {
  "kernelspec": {
   "display_name": "Python 2",
   "language": "python",
   "name": "python2"
  },
  "language_info": {
   "codemirror_mode": {
    "name": "ipython",
    "version": 2
   },
   "file_extension": ".py",
   "mimetype": "text/x-python",
   "name": "python",
   "nbconvert_exporter": "python",
   "pygments_lexer": "ipython2",
   "version": "2.7.12"
  }
 },
 "nbformat": 4,
 "nbformat_minor": 0
}
