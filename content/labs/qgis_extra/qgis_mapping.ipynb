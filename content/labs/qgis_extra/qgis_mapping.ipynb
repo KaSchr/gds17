{
 "cells": [
  {
   "cell_type": "markdown",
   "metadata": {},
   "source": [
    "# Data mapping using QGIS"
   ]
  },
  {
   "cell_type": "markdown",
   "metadata": {},
   "source": [
    "*The following instructions are based on https://github.com/nickbearman/intro-qgis-spatial-data*"
   ]
  },
  {
   "cell_type": "markdown",
   "metadata": {},
   "source": [
    "### Data"
   ]
  },
  {
   "cell_type": "markdown",
   "metadata": {},
   "source": [
    "Ensure you have the following datasets downloaded:\n",
    "* CDRC’s English Indices of Deprivation 2015 Geodata Pack for the city of Liverpool (UK). \n",
    "* CDRC’s Geodata pack for the city of Liverpool (UK).\n",
    "* Raster file for the basemap of Liverpool (tiff file)."
   ]
  },
  {
   "cell_type": "markdown",
   "metadata": {},
   "source": [
    "### Starting up QGIS\n",
    "Open QGIS Desktop 2.10.1 (not the ‘with GRASS’ option). "
   ]
  },
  {
   "cell_type": "markdown",
   "metadata": {},
   "source": [
    "### Add Raster basemap\n",
    "* Layer > Add Layer > Add Raster Layer\n",
    "* Browse\n",
    "* Navigate to the lab04_liverpool.tiff in your file directory and click Open. \n",
    "\n",
    "![](Liverpool_tiff.jpg)"
   ]
  },
  {
   "cell_type": "markdown",
   "metadata": {},
   "source": [
    "### Add IMD dataset\n",
    "* Layer > Add Layer > Add Vector Layer\n",
    "* Browse\n",
    "* Navigate to the E08000012.shp and Open. \n",
    "* Ensure your E08000012 dataset overlays the Liverpool .tiff file. \n",
    "\n",
    "![](Liverpool_shp.jpg)"
   ]
  },
  {
   "cell_type": "markdown",
   "metadata": {},
   "source": [
    "### Visualising IMD dataset\n",
    "* Right click on E08000012 in the layer list (on the left of the QGIS window) and select Properties. In the Layer Properties window that appears, make sure that the Style tab on the left is selected. Click on the drop-down arrow to the right of Single Symbol (as shown below) and select Graduated.\n",
    "* We will start by mapping **imd_score**: use the Column drop-down arrow to select imd_score. Click Classify to bring up the ranges of values. QGIS then assigns ranges of population values different colours/shades.\n",
    "* Select your own colour ramp\n",
    "* Change the transparency to 50\n",
    "* Click Ok\n",
    "\n",
    "#### Output\n",
    "\n",
    "![](imd_score_map.jpg)"
   ]
  },
  {
   "cell_type": "markdown",
   "metadata": {},
   "source": [
    "* Repeat with other measures available in the dataset e.g. employment, education or health. "
   ]
  },
  {
   "cell_type": "markdown",
   "metadata": {},
   "source": [
    "#### Change equal intervals "
   ]
  },
  {
   "cell_type": "markdown",
   "metadata": {},
   "source": [
    "The number of equal intervals can be changed in the properties window. This changes the look and meaning of the map. 7 equal intervals for **imd_score** looks like this:\n",
    "\n",
    "![](imd_score_7v2.jpg)"
   ]
  },
  {
   "cell_type": "markdown",
   "metadata": {},
   "source": [
    "* Right click E08000012 and select Properties. \n",
    "* Select Lighten under Feature Blending Mode to remove the border between each LSOA. \n",
    "\n",
    "![](Feature_Blending.jpg)"
   ]
  },
  {
   "cell_type": "markdown",
   "metadata": {},
   "source": [
    "### Presenting your map"
   ]
  },
  {
   "cell_type": "markdown",
   "metadata": {},
   "source": [
    "* You can simply save your map as an image using Project > Save. However there are a few key elements missing such as a legend, scale bar and north arrow. "
   ]
  },
  {
   "cell_type": "markdown",
   "metadata": {},
   "source": [
    "* Before you proceed. right click on E08000012 in the Layers view and select Zoom to Layer. \n",
    "* Go to Project > New print composer. \n",
    "* In the composer title window type: Index of Multiple Deprivation for Liverpool and click OK. \n",
    "* In the composer window go to Layout > Add Map. \n",
    "* Hold down on the left button on the mouse in the top left corner of the blank page on the screen and drag to the bottom right. Let go. Your map should appear on the page.  \n",
    "\n",
    "![](Map_composer1.jpg)"
   ]
  },
  {
   "cell_type": "markdown",
   "metadata": {},
   "source": [
    "* Under Item Properties > Map > Main Properties (on the right hand side of the screen), change the Scale to 95000. \n",
    "* To move the frame (the map and the box around it), go to Layout > Move Item; you can click the frame and move it about. \n",
    "* To move just the map go to Layout > Move Content. You could move the map using this function to the right of the page, to allow space on the left for a legend and title. \n",
    "\n",
    "##### Add a legend. \n",
    "\n",
    "* Go to Layout > Add Legend. \n",
    "* Under Item Properties > Legend, deselect 'Autoupdate.' Remove the .tiff file from the legend. \n",
    "\n",
    "![](Autoupdate.jpg)\n",
    "\n",
    "* Select lab04_liverpool (the raster layer) and select delete. \n",
    "\n",
    "![](Delete_tiff.jpg)\n",
    "\n",
    "* Rename the Legend by selecting the pencil icon and typing 'IMD Score'\n",
    "\n",
    "![](Rename.jpg)\n",
    "\n",
    "* ##### Add a scale bar. \n",
    "* Go to Layout > Add Scale bar and left click on the map. \n",
    "* You can adjust the width of the scale bar in Item Properties > Scale bar > Segments > Fixed Width. Change to ~ 1000 units for a smaller scale bar. \n",
    "\n",
    "* ##### Add a north arrow. \n",
    "* Go to Layout > Add arrow and click on the map. \n",
    "\n",
    "* Move the cartographic components on your map as you wish to create your final map. \n",
    "\n",
    "![](LiverpoolIMD.jpg)"
   ]
  },
  {
   "cell_type": "markdown",
   "metadata": {},
   "source": [
    "Once finished go to Composer > Export as image. "
   ]
  },
  {
   "cell_type": "markdown",
   "metadata": {},
   "source": [
    "*Written and tested using QGIS 2.10.1 on 02/11/2015 by Charlotte Lyddon.*"
   ]
  },
  {
   "cell_type": "markdown",
   "metadata": {},
   "source": [
    "---\n",
    "\n",
    "<a rel=\"license\" href=\"http://creativecommons.org/licenses/by-nc-sa/4.0/\"><img alt=\"Creative Commons License\" style=\"border-width:0\" src=\"https://i.creativecommons.org/l/by-nc-sa/4.0/88x31.png\" /></a><br /><span xmlns:dct=\"http://purl.org/dc/terms/\" property=\"dct:title\">Data mapping using QGIS</span> by Charlotte Lyddon is licensed under a <a rel=\"license\" href=\"http://creativecommons.org/licenses/by-nc-sa/4.0/\">Creative Commons Attribution-NonCommercial-ShareAlike 4.0 International License</a>.\n",
    "\n"
   ]
  }
 ],
 "metadata": {
  "kernelspec": {
   "display_name": "Python 2",
   "language": "python",
   "name": "python2"
  },
  "language_info": {
   "codemirror_mode": {
    "name": "ipython",
    "version": 2
   },
   "file_extension": ".py",
   "mimetype": "text/x-python",
   "name": "python",
   "nbconvert_exporter": "python",
   "pygments_lexer": "ipython2",
   "version": "2.7.10"
  }
 },
 "nbformat": 4,
 "nbformat_minor": 0
}
